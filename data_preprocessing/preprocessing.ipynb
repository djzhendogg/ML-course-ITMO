{
  "cells": [
    {
      "cell_type": "code",
      "source": [
        "from google.colab import drive\n",
        "drive.mount(\"/content/drive\")"
      ],
      "metadata": {
        "id": "1cX-vkXTueez",
        "colab": {
          "base_uri": "https://localhost:8080/"
        },
        "outputId": "5e021652-95e7-412b-a913-8fa0837927ab"
      },
      "execution_count": 1,
      "outputs": [
        {
          "output_type": "stream",
          "name": "stdout",
          "text": [
            "Mounted at /content/drive\n"
          ]
        }
      ]
    },
    {
      "cell_type": "code",
      "execution_count": null,
      "metadata": {
        "id": "octfsA12-pip"
      },
      "outputs": [],
      "source": [
        "!pip install arff\n",
        "import arff"
      ]
    },
    {
      "cell_type": "code",
      "execution_count": 2,
      "metadata": {
        "id": "PF9cvIPwjRId"
      },
      "outputs": [],
      "source": [
        "import pandas as pd\n",
        "import numpy as np"
      ]
    },
    {
      "cell_type": "markdown",
      "source": [
        "**Парсил я в файле parser.py с использованием функций из parser_tools.py**"
      ],
      "metadata": {
        "id": "sa_3wdXkteXi"
      }
    },
    {
      "cell_type": "markdown",
      "metadata": {
        "id": "LRpwwV7Rivw9"
      },
      "source": [
        "##стадии парсинга"
      ]
    },
    {
      "cell_type": "code",
      "execution_count": null,
      "metadata": {
        "id": "W_vTC7YSjn7R"
      },
      "outputs": [],
      "source": [
        "women = pd.read_csv('/content/drive/MyDrive/study/andan/women_perfume.csv', index_col=0)\n",
        "men = pd.read_csv('/content/drive/MyDrive/study/andan/men_perfume.csv', index_col=0)\n",
        "men['audience'] = 'men'\n",
        "women['audience'] = 'women'\n",
        "\n",
        "all = pd.concat([women, men], axis=0)"
      ]
    },
    {
      "cell_type": "code",
      "execution_count": null,
      "metadata": {
        "id": "UD1YdQXRlSPd"
      },
      "outputs": [],
      "source": [
        "all.rename(columns={\"Год выпуска:\": \"year\", \"Группа ароматов:\": \"flavor_group\", 'Верхние ноты:': 'upper_notes', 'Ноты сердца:': 'heart_notes',\n",
        "                    'Базовые ноты:': 'base_notes', 'Страна производства:': 'country', 'Срок годности:': 'expiration', 'Производитель:': 'manufacturer'},\n",
        "           inplace=True)"
      ]
    },
    {
      "cell_type": "markdown",
      "metadata": {
        "id": "BEjhiEbEjBui"
      },
      "source": [
        "###унифицировать единицы измерения и очищать числовые значения от форматирования"
      ]
    },
    {
      "cell_type": "code",
      "execution_count": null,
      "metadata": {
        "id": "5KoeOItaon9c"
      },
      "outputs": [],
      "source": [
        "for i in range(all.shape[0]):\n",
        "  line = all.iloc[i]\n",
        "  volume = line['volume']\n",
        "  price = line['price']\n",
        "  if volume != '0' and isinstance(volume, str):\n",
        "    volume_list_main = volume.split(' ')[0]\n",
        "    if '+' in volume_list_main and '*' in volume_list_main:\n",
        "      try:\n",
        "        volume_list = volume_list_main.split('+')\n",
        "        fin_volume = int(volume_list[0])\n",
        "        volume_list2 = volume_list[1].split('*')\n",
        "        fin_volume += int(volume_list2[0])\n",
        "        fin_volume += int(volume_list2[1])\n",
        "      except:\n",
        "        volume_list = volume_list_main.split('*')\n",
        "        fin_volume = int(volume_list[0])\n",
        "        volume_list2 = volume_list[1].split('+')\n",
        "        fin_volume += int(volume_list2[0])\n",
        "        fin_volume += int(volume_list2[1])\n",
        "    elif '+' in volume_list_main:\n",
        "      volume_list = volume_list_main.split('+')\n",
        "      fin_volume = 0\n",
        "      for vol in volume_list:\n",
        "        fin_volume += float(vol)\n",
        "      volume_list_main = fin_volume\n",
        "    elif '*' in volume_list_main:\n",
        "      volume_list = volume_list_main.split('*')\n",
        "      fin_volume = 1\n",
        "      for vol in volume_list:\n",
        "        fin_volume *= float(vol)\n",
        "      volume_list_main = fin_volume\n",
        "    all['volume'].replace(volume, volume_list_main, inplace=True)\n",
        "\n",
        "\n",
        "  if price != '0' and isinstance(price, str):\n",
        "    price_list = price.split(' ')\n",
        "    new_pr = ''\n",
        "    for pr in price_list:\n",
        "      if pr != 'р.' and pr != ' ':\n",
        "        new_pr += pr\n",
        "    all['price'].replace(price, int(new_pr), inplace=True)"
      ]
    },
    {
      "cell_type": "code",
      "execution_count": null,
      "metadata": {
        "id": "8uQM8wJxyCNb"
      },
      "outputs": [],
      "source": [
        "all.replace('36 месяцев с момента апробирования', 36.0, inplace=True)\n",
        "all['volume, ml'].replace('15+2*50', '115', inplace=True)\n",
        "all.rename(columns={\"expiration\": \"expiration, mounth\", \"volume\": \"volume, ml\", 'price': 'price, rub'},\n",
        "           inplace=True)"
      ]
    },
    {
      "cell_type": "code",
      "execution_count": null,
      "metadata": {
        "id": "cxHot1eX_Gft"
      },
      "outputs": [],
      "source": [
        "all.dtypes"
      ]
    },
    {
      "cell_type": "markdown",
      "metadata": {
        "id": "I30QoZK7-3jz"
      },
      "source": [
        "Сохранение в TSV"
      ]
    },
    {
      "cell_type": "code",
      "execution_count": null,
      "metadata": {
        "id": "i39D-xqmy6PN"
      },
      "outputs": [],
      "source": [
        "all.to_csv('/content/drive/MyDrive/study/andan/perfume.tsv', sep='\\t', index=False, header=True)"
      ]
    },
    {
      "cell_type": "markdown",
      "metadata": {
        "id": "DbpztI97-8HY"
      },
      "source": [
        "Сохранение в arff"
      ]
    },
    {
      "cell_type": "code",
      "execution_count": null,
      "metadata": {
        "id": "kZMFI1N95aLi"
      },
      "outputs": [],
      "source": [
        "df = pd.read_csv('/content/drive/MyDrive/study/andan/perfume.tsv',  sep='\\t')\n",
        "arff.dump(\n",
        "    '/content/drive/MyDrive/study/andan/perfume.arff'\n",
        "      , df.values\n",
        "      , relation='perfume'\n",
        "      , names=df.columns\n",
        ")"
      ]
    },
    {
      "cell_type": "markdown",
      "metadata": {
        "id": "bTrD-bq4APGt"
      },
      "source": [
        "##предобработка"
      ]
    },
    {
      "cell_type": "code",
      "execution_count": 10,
      "metadata": {
        "id": "rHLHY46JOPEY"
      },
      "outputs": [],
      "source": [
        "df = pd.read_csv('/content/drive/MyDrive/study/andan/perfume.tsv',  sep='\\t')"
      ]
    },
    {
      "cell_type": "code",
      "source": [
        "a = list(df['flavor_group'].unique())\n",
        "z = []\n",
        "for i in g:\n",
        "  if pd.notna(i):\n",
        "    b = i.split(';')\n",
        "    for j in b:\n",
        "      z.append(j)\n",
        "      if ('ые' not in j) and ('ие' not in j):\n",
        "        print(j)"
      ],
      "metadata": {
        "id": "vC2fzBV4n7Hy"
      },
      "execution_count": null,
      "outputs": []
    },
    {
      "cell_type": "code",
      "source": [
        "def make_one_flavor_group_type(df):\n",
        "    a = list(df['flavor_group'])\n",
        "    z = []\n",
        "    for i in a:\n",
        "        if pd.notna(i):\n",
        "            b = i.split(';')\n",
        "            to_add = ''\n",
        "            for j in b:\n",
        "                if j == 'мускус':\n",
        "                    to_add += 'мускусные;'\n",
        "                elif j == 'древесина':\n",
        "                    to_add += 'древесные;'\n",
        "                elif j == 'альдегиды':\n",
        "                    to_add += 'альдегидные;'\n",
        "                elif j == 'ваниль':\n",
        "                    to_add += 'ванильные;'\n",
        "                else:\n",
        "                    to_add += j + ';'\n",
        "            z.append(to_add)\n",
        "        else:\n",
        "            z.append(np.nan)\n",
        "    return z"
      ],
      "metadata": {
        "id": "tgATxqjqyr7s"
      },
      "execution_count": null,
      "outputs": []
    },
    {
      "cell_type": "code",
      "execution_count": null,
      "metadata": {
        "colab": {
          "base_uri": "https://localhost:8080/"
        },
        "id": "O1npFxaGID81",
        "outputId": "78344204-8514-457d-c0e9-f420e1544fd5"
      },
      "outputs": [
        {
          "data": {
            "text/plain": [
              "(28286, 13)"
            ]
          },
          "execution_count": 135,
          "metadata": {},
          "output_type": "execute_result"
        }
      ],
      "source": [
        "df.shape"
      ]
    },
    {
      "cell_type": "code",
      "execution_count": null,
      "metadata": {
        "id": "ED0W-ig-CMmb"
      },
      "outputs": [],
      "source": [
        "# парсинг делался по компании и названию, следовательно эти строки полностью фиктивны\n",
        "df.drop(df[df['company'].isnull()].index, inplace=True)\n",
        "df.drop(df[df['name'].isnull()].index, inplace=True)\n",
        "# если неизвестно чем пахнут, то не на чем предсказывать\n",
        "df.drop(df[df['flavor_group'].isnull()].index, inplace=True)\n",
        "# сновные фичи для предсказания, если нул, то строки фиктивны\n",
        "df.drop(df[df['upper_notes'].isnull() & df['heart_notes'].isnull() & df['base_notes'].isnull()].index, inplace=True)"
      ]
    },
    {
      "cell_type": "code",
      "execution_count": null,
      "metadata": {
        "id": "U64HfvJHXVYH"
      },
      "outputs": [],
      "source": [
        "# заполняю год и срок хранения средним\n",
        "df['year'].fillna((df['year'].mean()), inplace=True)\n",
        "df['expiration, mounth'].fillna((df['expiration, mounth'].mean()), inplace=True)\n",
        "\n",
        "# При отсутствии места производства и страны говорю что его \"нет\"\n",
        "df['manufacturer'].fillna('no', inplace=True)\n",
        "df['country'].fillna('no', inplace=True)"
      ]
    },
    {
      "cell_type": "code",
      "source": [
        "df.columns"
      ],
      "metadata": {
        "colab": {
          "base_uri": "https://localhost:8080/"
        },
        "id": "wcQS_VNd4Vl1",
        "outputId": "71d76024-5a83-477b-99fd-f368875c16df"
      },
      "execution_count": null,
      "outputs": [
        {
          "output_type": "execute_result",
          "data": {
            "text/plain": [
              "Index(['company', 'name', 'year', 'flavor_group', 'upper_notes', 'heart_notes',\n",
              "       'base_notes', 'country', 'expiration, mounth', 'volume, ml',\n",
              "       'price, rub', 'manufacturer', 'audience'],\n",
              "      dtype='object')"
            ]
          },
          "metadata": {},
          "execution_count": 108
        }
      ]
    },
    {
      "cell_type": "markdown",
      "source": [
        "Дальнейшая обработка:\n",
        "\n",
        "**audience** - целевой признак.\n",
        "\n",
        "Существуют такие колонки как 'flavor_group', 'upper_notes', 'heart_notes', 'base_notes'.\n",
        "\n",
        "flavor_group - группа запахов, обощенная инфа чем пахнет в среднем.\n",
        "\n",
        "upper_notes - верхние ноты, то что чувствует неопытный человек, самые явные запахи.\n",
        "\n",
        "heart_notes - тонкие запахи, пахнут слабее но задают явную картину.\n",
        "\n",
        "base_notes - фоновые ноты, придают плотность, держатся дольше.\n",
        "\n",
        "flavor_group я разделяю на колонки и задаю 0 или 1 в зависимости от наличия.\n",
        "\n",
        "\n",
        "\n",
        "Для остальных - так как у них имеется условная \"мощность\", и в основном пересекающиеся значения, то обработка идет следующим образом:\n",
        "1. Все колонки объеденяются в общий лист запахов\n",
        "2. В зависимости от включения запахов в фичу, каждому семплу назначается вектор состоящий из чисел (числа обсуждаемы):\n",
        "\n",
        "\n",
        "      0 - отсутствие\n",
        "\n",
        "      1 - base_notes\n",
        "\n",
        "      2 - heart_notes\n",
        "\n",
        "      3 - upper_notes\n",
        "\n",
        "\n",
        "Это основная информация, на которой планируется строить модель.\n",
        "\n",
        "Такие колонки как 'company', 'name', 'country', 'manufacturer' - несут мало ценной информации в рамках идеи, пойдут как сопутствующая информация.\n",
        "\n",
        "'price, rub', 'volume, ml', 'year' - возможны в использование, но будут обрабатываться отдельно (например, не будут включены в операцию по снижению размерности и тому подобное).\n",
        "\n",
        "'price, rub'/'volume, ml' - потенциальный таргет для регрессии (цена одного миллилитра).\n",
        "\n",
        "'expiration, mounth' - везде одинаков, не представляет интересной информации."
      ],
      "metadata": {
        "id": "M3xqgrd14M_4"
      }
    },
    {
      "cell_type": "code",
      "source": [
        "def make_list_flavor(df, col_name):\n",
        "    complex_flavor_group = list(df[col_name].unique())\n",
        "    all_flavor_group = []\n",
        "    for complex_flavor in complex_flavor_group:\n",
        "        if pd.notna(complex_flavor):\n",
        "            flavors = complex_flavor.split(';')\n",
        "            for flavor in flavors:\n",
        "                if flavor not in all_flavor_group:\n",
        "                    all_flavor_group.append(flavor)\n",
        "    return all_flavor_group\n",
        "\n",
        "\n",
        "def extract_columns(df, col_name):\n",
        "    all_flavor_group = make_list_flavor(df, col_name)\n",
        "    print(all_flavor_group)\n",
        "    if 'iso e super' in all_flavor_group:\n",
        "        print(col_name)\n",
        "        print(all_flavor_group)\n",
        "        all_flavor_group.remove('iso e super')\n",
        "\n",
        "    all_flavor_group_dict_cols = {}\n",
        "    df_col_flavor_group = df[col_name]\n",
        "    for flavor in all_flavor_group:\n",
        "        df_col_list = []\n",
        "        for df_col in df_col_flavor_group:\n",
        "            if pd.notna(df_col):\n",
        "                if flavor in df_col:\n",
        "                    df_col_list.append(1)\n",
        "                else:\n",
        "                    df_col_list.append(0)\n",
        "            else:\n",
        "                df_col_list.append(0)\n",
        "        all_flavor_group_dict_cols[flavor] = df_col_list\n",
        "    return all_flavor_group_dict_cols\n",
        "\n",
        "\n",
        "def add_flav_columns(df, col_name):\n",
        "    flavor_group_columns = extract_columns(df, col_name)\n",
        "    for i in flavor_group_columns.keys():\n",
        "        df[i + '_f_g'] = flavor_group_columns[i]\n",
        "\n",
        "\n",
        "def make_one_flavor_group_type(df):\n",
        "    a = list(df['flavor_group'])\n",
        "    z = []\n",
        "    for i in a:\n",
        "        if pd.notna(i):\n",
        "            b = i.split(';')\n",
        "            to_add = ''\n",
        "            for j in b:\n",
        "                if j == 'мускус':\n",
        "                    to_add += 'мускусные;'\n",
        "                elif j == 'древесина':\n",
        "                    to_add += 'древесные;'\n",
        "                elif j == 'альдегиды':\n",
        "                    to_add += 'альдегидные;'\n",
        "                elif j == 'ваниль':\n",
        "                    to_add += 'ванильные;'\n",
        "                else:\n",
        "                    to_add += j + ';'\n",
        "            z.append(to_add)\n",
        "        else:\n",
        "            z.append(np.nan)\n",
        "    return z\n"
      ],
      "metadata": {
        "id": "G34t3jEZ9JeO"
      },
      "execution_count": null,
      "outputs": []
    },
    {
      "cell_type": "code",
      "source": [
        "df['flavor_group'] = make_one_flavor_group_type(df)\n",
        "add_flav_columns(df, 'flavor_group')\n",
        "\n",
        "complex_upper_notes = make_list_flavor(df, 'upper_notes')\n",
        "complex_heart_notes = make_list_flavor(df, 'heart_notes')\n",
        "complex_base_notes = make_list_flavor(df, 'base_notes')\n",
        "\n",
        "all_notes = list(set(complex_upper_notes+complex_heart_notes+complex_base_notes))\n",
        "\n",
        "\n",
        "# Следующие вычисления очень долгие +-час, в зависимости от машины\n",
        "\n",
        "all_flavor_group_dict_cols = {}\n",
        "for flavor in all_notes:\n",
        "    df_col_list = []\n",
        "    for _id in range(df.shape[0]):\n",
        "        line = df.iloc[_id]\n",
        "        upper_note = line['upper_notes']\n",
        "        heart_note = line['heart_notes']\n",
        "        base_note = line['base_notes']\n",
        "        if pd.notna(upper_note) and flavor in upper_note:\n",
        "            df_col_list.append(3)\n",
        "        elif pd.notna(heart_note) and flavor in heart_note:\n",
        "            df_col_list.append(2)\n",
        "        elif pd.notna(base_note) and flavor in base_note:\n",
        "            df_col_list.append(1)\n",
        "        else:\n",
        "            df_col_list.append(0)\n",
        "\n",
        "    all_flavor_group_dict_cols[flavor] = df_col_list"
      ],
      "metadata": {
        "id": "90DJ-4Jg9NUU"
      },
      "execution_count": null,
      "outputs": []
    },
    {
      "cell_type": "code",
      "source": [
        "all_flavor_group_df = pd.DataFrame.from_dict(all_flavor_group_dict_cols)\n",
        "\n",
        "df = pd.concat([df, all_flavor_group_df], axis=1)"
      ],
      "metadata": {
        "id": "Rrhwz5rT9pgD"
      },
      "execution_count": null,
      "outputs": []
    },
    {
      "cell_type": "code",
      "source": [
        "df.drop(['upper_notes', 'heart_notes', 'base_notes', 'flavor_group'], axis=1, inplace=True)"
      ],
      "metadata": {
        "id": "JANMMKqp9VvY"
      },
      "execution_count": null,
      "outputs": []
    },
    {
      "cell_type": "code",
      "source": [
        "df.to_csv('/content/drive/MyDrive/study/andan/perfume_processed.csv')"
      ],
      "metadata": {
        "id": "DqxAVzxp9YTj"
      },
      "execution_count": null,
      "outputs": []
    },
    {
      "cell_type": "code",
      "source": [
        "df_processed = pd.read_csv('/content/drive/MyDrive/study/andan/perfume_processed.csv')"
      ],
      "metadata": {
        "id": "Mhelmv2IswCL"
      },
      "execution_count": 23,
      "outputs": []
    },
    {
      "cell_type": "code",
      "source": [
        "df_processed.drop(['_f_g', 'expiration, mounth'], axis=1, inplace=True)\n",
        "df_processed.rename(columns={\"Unnamed: 0\": \"ID\"}, inplace=True)\n",
        "\n",
        "df_additional = df_processed[['ID', 'price, rub', 'volume, ml', 'year']]\n",
        "df_support_info = df_processed[['ID', 'company', 'name', 'country', 'manufacturer']]\n",
        "\n",
        "df_target = df_processed[['ID', 'audience']]\n",
        "df_target_id = df_target.replace('women', 1)\n",
        "df_target_id = df_target_id.replace('men', 2)\n",
        "df_target['class'] = df_target_id['audience']\n",
        "df_main = df_processed.drop(['price, rub', 'volume, ml', 'year', 'company', 'name', 'country', 'manufacturer', 'audience'], axis=1)"
      ],
      "metadata": {
        "id": "4os78zaSszO5",
        "colab": {
          "base_uri": "https://localhost:8080/"
        },
        "outputId": "64d2bf02-3d16-49cf-e132-91e6d3a96d41"
      },
      "execution_count": 24,
      "outputs": [
        {
          "output_type": "stream",
          "name": "stderr",
          "text": [
            "<ipython-input-24-33ce2a3c1ad4>:9: FutureWarning: Downcasting behavior in `replace` is deprecated and will be removed in a future version. To retain the old behavior, explicitly call `result.infer_objects(copy=False)`. To opt-in to the future behavior, set `pd.set_option('future.no_silent_downcasting', True)`\n",
            "  df_target_id = df_target_id.replace('men', 2)\n",
            "<ipython-input-24-33ce2a3c1ad4>:10: SettingWithCopyWarning: \n",
            "A value is trying to be set on a copy of a slice from a DataFrame.\n",
            "Try using .loc[row_indexer,col_indexer] = value instead\n",
            "\n",
            "See the caveats in the documentation: https://pandas.pydata.org/pandas-docs/stable/user_guide/indexing.html#returning-a-view-versus-a-copy\n",
            "  df_target['class'] = df_target_id['audience']\n"
          ]
        }
      ]
    },
    {
      "cell_type": "code",
      "source": [
        "# минмакс\n",
        "def normalize(x):\n",
        "    return [round((i - min(x)) / (max(x) - min(x)), 2) for i in x]\n",
        "\n",
        "# моя крутая нормализация\n",
        "df_to_norm = df_main.drop(['ID'], axis=1)\n",
        "df_to_norm.replace(1, 0.33, inplace=True)\n",
        "df_to_norm.replace(2, 0.67, inplace=True)\n",
        "df_to_norm.replace(3, 1.0, inplace=True)\n",
        "df_to_norm['ID'] = df_main['ID']\n",
        "df_to_norm.shape"
      ],
      "metadata": {
        "id": "bn4fFH19s4GJ",
        "colab": {
          "base_uri": "https://localhost:8080/"
        },
        "outputId": "8fa43725-8e3b-4277-a075-60c8d58d631c"
      },
      "execution_count": 25,
      "outputs": [
        {
          "output_type": "stream",
          "name": "stderr",
          "text": [
            "<ipython-input-25-a83897ad22d3>:10: PerformanceWarning: DataFrame is highly fragmented.  This is usually the result of calling `frame.insert` many times, which has poor performance.  Consider joining all columns at once using pd.concat(axis=1) instead. To get a de-fragmented frame, use `newframe = frame.copy()`\n",
            "  df_to_norm['ID'] = df_main['ID']\n"
          ]
        },
        {
          "output_type": "execute_result",
          "data": {
            "text/plain": [
              "(27192, 1090)"
            ]
          },
          "metadata": {},
          "execution_count": 25
        }
      ]
    },
    {
      "cell_type": "code",
      "source": [
        "df_to_norm.set_index('ID', inplace=True)\n",
        "df_target.set_index('ID', inplace=True)\n",
        "df_support_info.set_index('ID', inplace=True)\n",
        "df_additional.set_index('ID', inplace=True)"
      ],
      "metadata": {
        "id": "QT3wdDhjs6EP"
      },
      "execution_count": 26,
      "outputs": []
    },
    {
      "cell_type": "code",
      "source": [
        "df_to_norm.drop_duplicates(inplace=True)"
      ],
      "metadata": {
        "id": "_qxmoFah3Cr8"
      },
      "execution_count": 27,
      "outputs": []
    },
    {
      "cell_type": "code",
      "source": [
        "df_target = df_target.loc[df_to_norm.index]\n",
        "df_additional = df_additional.loc[df_to_norm.index]\n",
        "df_support_info = df_support_info.loc[df_to_norm.index]"
      ],
      "metadata": {
        "id": "XA3JvIgG3JdD"
      },
      "execution_count": 28,
      "outputs": []
    },
    {
      "cell_type": "code",
      "source": [
        "df_to_norm.reset_index(inplace=True, drop=True)\n",
        "df_target.reset_index(inplace=True, drop=True)\n",
        "df_support_info.reset_index(inplace=True, drop=True)\n",
        "df_additional.reset_index(inplace=True, drop=True)"
      ],
      "metadata": {
        "id": "ObGzPVfm3Wsj"
      },
      "execution_count": 29,
      "outputs": []
    },
    {
      "cell_type": "code",
      "source": [
        "df_to_norm"
      ],
      "metadata": {
        "colab": {
          "base_uri": "https://localhost:8080/",
          "height": 478
        },
        "id": "Bhb6SF4S4BgP",
        "outputId": "bb0d0be4-3127-4add-afa5-e6ac585a8dc5"
      },
      "execution_count": 30,
      "outputs": [
        {
          "output_type": "execute_result",
          "data": {
            "text/plain": [
              "       восточные_f_g  цветочные_f_g  древесные_f_g  фужерные_f_g  водяные_f_g  \\\n",
              "0               0.33           0.33           0.00          0.00          0.0   \n",
              "1               0.33           0.33           0.00          0.00          0.0   \n",
              "2               0.00           0.33           0.00          0.00          0.0   \n",
              "3               0.00           0.00           0.33          0.33          0.0   \n",
              "4               0.33           0.00           0.33          0.00          0.0   \n",
              "...              ...            ...            ...           ...          ...   \n",
              "26640           0.00           0.33           0.00          0.00          0.0   \n",
              "26641           0.33           0.00           0.00          0.00          0.0   \n",
              "26642           0.33           0.00           0.00          0.33          0.0   \n",
              "26643           0.00           0.33           0.00          0.00          0.0   \n",
              "26644           0.33           0.00           0.00          0.33          0.0   \n",
              "\n",
              "       шипровые_f_g  гурманские_f_g  мускусные_f_g  кожаные_f_g  зеленые_f_g  \\\n",
              "0               0.0             0.0            0.0          0.0          0.0   \n",
              "1               0.0             0.0            0.0          0.0          0.0   \n",
              "2               0.0             0.0            0.0          0.0          0.0   \n",
              "3               0.0             0.0            0.0          0.0          0.0   \n",
              "4               0.0             0.0            0.0          0.0          0.0   \n",
              "...             ...             ...            ...          ...          ...   \n",
              "26640           0.0             0.0            0.0          0.0          0.0   \n",
              "26641           0.0             0.0            0.0          0.0          0.0   \n",
              "26642           0.0             0.0            0.0          0.0          0.0   \n",
              "26643           0.0             0.0            0.0          0.0          0.0   \n",
              "26644           0.0             0.0            0.0          0.0          0.0   \n",
              "\n",
              "       ...  чай эрл грей  капучино  тысячелистник  пеларгония  белый табак  \\\n",
              "0      ...           0.0       0.0            0.0         0.0          0.0   \n",
              "1      ...           0.0       0.0            0.0         0.0          0.0   \n",
              "2      ...           0.0       0.0            0.0         0.0          0.0   \n",
              "3      ...           0.0       0.0            0.0         0.0          0.0   \n",
              "4      ...           0.0       0.0            0.0         0.0          0.0   \n",
              "...    ...           ...       ...            ...         ...          ...   \n",
              "26640  ...           0.0       0.0            0.0         0.0          0.0   \n",
              "26641  ...           0.0       0.0            0.0         0.0          0.0   \n",
              "26642  ...           0.0       0.0            0.0         0.0          0.0   \n",
              "26643  ...           0.0       0.0            0.0         0.0          0.0   \n",
              "26644  ...           0.0       0.0            0.0         0.0          0.0   \n",
              "\n",
              "       скотч  кринум  цедра мандарина  камыш  полынь  \n",
              "0        0.0     0.0              0.0    0.0     0.0  \n",
              "1        0.0     0.0              0.0    0.0     0.0  \n",
              "2        0.0     0.0              0.0    0.0     0.0  \n",
              "3        0.0     0.0              0.0    0.0     0.0  \n",
              "4        0.0     0.0              0.0    0.0     0.0  \n",
              "...      ...     ...              ...    ...     ...  \n",
              "26640    0.0     0.0              0.0    0.0     0.0  \n",
              "26641    0.0     0.0              0.0    0.0     0.0  \n",
              "26642    0.0     0.0              0.0    0.0     0.0  \n",
              "26643    0.0     0.0              0.0    0.0     0.0  \n",
              "26644    0.0     0.0              0.0    0.0     0.0  \n",
              "\n",
              "[26645 rows x 1089 columns]"
            ],
            "text/html": [
              "\n",
              "  <div id=\"df-1ccebbd8-2138-4fa9-b442-2087fed14329\" class=\"colab-df-container\">\n",
              "    <div>\n",
              "<style scoped>\n",
              "    .dataframe tbody tr th:only-of-type {\n",
              "        vertical-align: middle;\n",
              "    }\n",
              "\n",
              "    .dataframe tbody tr th {\n",
              "        vertical-align: top;\n",
              "    }\n",
              "\n",
              "    .dataframe thead th {\n",
              "        text-align: right;\n",
              "    }\n",
              "</style>\n",
              "<table border=\"1\" class=\"dataframe\">\n",
              "  <thead>\n",
              "    <tr style=\"text-align: right;\">\n",
              "      <th></th>\n",
              "      <th>восточные_f_g</th>\n",
              "      <th>цветочные_f_g</th>\n",
              "      <th>древесные_f_g</th>\n",
              "      <th>фужерные_f_g</th>\n",
              "      <th>водяные_f_g</th>\n",
              "      <th>шипровые_f_g</th>\n",
              "      <th>гурманские_f_g</th>\n",
              "      <th>мускусные_f_g</th>\n",
              "      <th>кожаные_f_g</th>\n",
              "      <th>зеленые_f_g</th>\n",
              "      <th>...</th>\n",
              "      <th>чай эрл грей</th>\n",
              "      <th>капучино</th>\n",
              "      <th>тысячелистник</th>\n",
              "      <th>пеларгония</th>\n",
              "      <th>белый табак</th>\n",
              "      <th>скотч</th>\n",
              "      <th>кринум</th>\n",
              "      <th>цедра мандарина</th>\n",
              "      <th>камыш</th>\n",
              "      <th>полынь</th>\n",
              "    </tr>\n",
              "  </thead>\n",
              "  <tbody>\n",
              "    <tr>\n",
              "      <th>0</th>\n",
              "      <td>0.33</td>\n",
              "      <td>0.33</td>\n",
              "      <td>0.00</td>\n",
              "      <td>0.00</td>\n",
              "      <td>0.0</td>\n",
              "      <td>0.0</td>\n",
              "      <td>0.0</td>\n",
              "      <td>0.0</td>\n",
              "      <td>0.0</td>\n",
              "      <td>0.0</td>\n",
              "      <td>...</td>\n",
              "      <td>0.0</td>\n",
              "      <td>0.0</td>\n",
              "      <td>0.0</td>\n",
              "      <td>0.0</td>\n",
              "      <td>0.0</td>\n",
              "      <td>0.0</td>\n",
              "      <td>0.0</td>\n",
              "      <td>0.0</td>\n",
              "      <td>0.0</td>\n",
              "      <td>0.0</td>\n",
              "    </tr>\n",
              "    <tr>\n",
              "      <th>1</th>\n",
              "      <td>0.33</td>\n",
              "      <td>0.33</td>\n",
              "      <td>0.00</td>\n",
              "      <td>0.00</td>\n",
              "      <td>0.0</td>\n",
              "      <td>0.0</td>\n",
              "      <td>0.0</td>\n",
              "      <td>0.0</td>\n",
              "      <td>0.0</td>\n",
              "      <td>0.0</td>\n",
              "      <td>...</td>\n",
              "      <td>0.0</td>\n",
              "      <td>0.0</td>\n",
              "      <td>0.0</td>\n",
              "      <td>0.0</td>\n",
              "      <td>0.0</td>\n",
              "      <td>0.0</td>\n",
              "      <td>0.0</td>\n",
              "      <td>0.0</td>\n",
              "      <td>0.0</td>\n",
              "      <td>0.0</td>\n",
              "    </tr>\n",
              "    <tr>\n",
              "      <th>2</th>\n",
              "      <td>0.00</td>\n",
              "      <td>0.33</td>\n",
              "      <td>0.00</td>\n",
              "      <td>0.00</td>\n",
              "      <td>0.0</td>\n",
              "      <td>0.0</td>\n",
              "      <td>0.0</td>\n",
              "      <td>0.0</td>\n",
              "      <td>0.0</td>\n",
              "      <td>0.0</td>\n",
              "      <td>...</td>\n",
              "      <td>0.0</td>\n",
              "      <td>0.0</td>\n",
              "      <td>0.0</td>\n",
              "      <td>0.0</td>\n",
              "      <td>0.0</td>\n",
              "      <td>0.0</td>\n",
              "      <td>0.0</td>\n",
              "      <td>0.0</td>\n",
              "      <td>0.0</td>\n",
              "      <td>0.0</td>\n",
              "    </tr>\n",
              "    <tr>\n",
              "      <th>3</th>\n",
              "      <td>0.00</td>\n",
              "      <td>0.00</td>\n",
              "      <td>0.33</td>\n",
              "      <td>0.33</td>\n",
              "      <td>0.0</td>\n",
              "      <td>0.0</td>\n",
              "      <td>0.0</td>\n",
              "      <td>0.0</td>\n",
              "      <td>0.0</td>\n",
              "      <td>0.0</td>\n",
              "      <td>...</td>\n",
              "      <td>0.0</td>\n",
              "      <td>0.0</td>\n",
              "      <td>0.0</td>\n",
              "      <td>0.0</td>\n",
              "      <td>0.0</td>\n",
              "      <td>0.0</td>\n",
              "      <td>0.0</td>\n",
              "      <td>0.0</td>\n",
              "      <td>0.0</td>\n",
              "      <td>0.0</td>\n",
              "    </tr>\n",
              "    <tr>\n",
              "      <th>4</th>\n",
              "      <td>0.33</td>\n",
              "      <td>0.00</td>\n",
              "      <td>0.33</td>\n",
              "      <td>0.00</td>\n",
              "      <td>0.0</td>\n",
              "      <td>0.0</td>\n",
              "      <td>0.0</td>\n",
              "      <td>0.0</td>\n",
              "      <td>0.0</td>\n",
              "      <td>0.0</td>\n",
              "      <td>...</td>\n",
              "      <td>0.0</td>\n",
              "      <td>0.0</td>\n",
              "      <td>0.0</td>\n",
              "      <td>0.0</td>\n",
              "      <td>0.0</td>\n",
              "      <td>0.0</td>\n",
              "      <td>0.0</td>\n",
              "      <td>0.0</td>\n",
              "      <td>0.0</td>\n",
              "      <td>0.0</td>\n",
              "    </tr>\n",
              "    <tr>\n",
              "      <th>...</th>\n",
              "      <td>...</td>\n",
              "      <td>...</td>\n",
              "      <td>...</td>\n",
              "      <td>...</td>\n",
              "      <td>...</td>\n",
              "      <td>...</td>\n",
              "      <td>...</td>\n",
              "      <td>...</td>\n",
              "      <td>...</td>\n",
              "      <td>...</td>\n",
              "      <td>...</td>\n",
              "      <td>...</td>\n",
              "      <td>...</td>\n",
              "      <td>...</td>\n",
              "      <td>...</td>\n",
              "      <td>...</td>\n",
              "      <td>...</td>\n",
              "      <td>...</td>\n",
              "      <td>...</td>\n",
              "      <td>...</td>\n",
              "      <td>...</td>\n",
              "    </tr>\n",
              "    <tr>\n",
              "      <th>26640</th>\n",
              "      <td>0.00</td>\n",
              "      <td>0.33</td>\n",
              "      <td>0.00</td>\n",
              "      <td>0.00</td>\n",
              "      <td>0.0</td>\n",
              "      <td>0.0</td>\n",
              "      <td>0.0</td>\n",
              "      <td>0.0</td>\n",
              "      <td>0.0</td>\n",
              "      <td>0.0</td>\n",
              "      <td>...</td>\n",
              "      <td>0.0</td>\n",
              "      <td>0.0</td>\n",
              "      <td>0.0</td>\n",
              "      <td>0.0</td>\n",
              "      <td>0.0</td>\n",
              "      <td>0.0</td>\n",
              "      <td>0.0</td>\n",
              "      <td>0.0</td>\n",
              "      <td>0.0</td>\n",
              "      <td>0.0</td>\n",
              "    </tr>\n",
              "    <tr>\n",
              "      <th>26641</th>\n",
              "      <td>0.33</td>\n",
              "      <td>0.00</td>\n",
              "      <td>0.00</td>\n",
              "      <td>0.00</td>\n",
              "      <td>0.0</td>\n",
              "      <td>0.0</td>\n",
              "      <td>0.0</td>\n",
              "      <td>0.0</td>\n",
              "      <td>0.0</td>\n",
              "      <td>0.0</td>\n",
              "      <td>...</td>\n",
              "      <td>0.0</td>\n",
              "      <td>0.0</td>\n",
              "      <td>0.0</td>\n",
              "      <td>0.0</td>\n",
              "      <td>0.0</td>\n",
              "      <td>0.0</td>\n",
              "      <td>0.0</td>\n",
              "      <td>0.0</td>\n",
              "      <td>0.0</td>\n",
              "      <td>0.0</td>\n",
              "    </tr>\n",
              "    <tr>\n",
              "      <th>26642</th>\n",
              "      <td>0.33</td>\n",
              "      <td>0.00</td>\n",
              "      <td>0.00</td>\n",
              "      <td>0.33</td>\n",
              "      <td>0.0</td>\n",
              "      <td>0.0</td>\n",
              "      <td>0.0</td>\n",
              "      <td>0.0</td>\n",
              "      <td>0.0</td>\n",
              "      <td>0.0</td>\n",
              "      <td>...</td>\n",
              "      <td>0.0</td>\n",
              "      <td>0.0</td>\n",
              "      <td>0.0</td>\n",
              "      <td>0.0</td>\n",
              "      <td>0.0</td>\n",
              "      <td>0.0</td>\n",
              "      <td>0.0</td>\n",
              "      <td>0.0</td>\n",
              "      <td>0.0</td>\n",
              "      <td>0.0</td>\n",
              "    </tr>\n",
              "    <tr>\n",
              "      <th>26643</th>\n",
              "      <td>0.00</td>\n",
              "      <td>0.33</td>\n",
              "      <td>0.00</td>\n",
              "      <td>0.00</td>\n",
              "      <td>0.0</td>\n",
              "      <td>0.0</td>\n",
              "      <td>0.0</td>\n",
              "      <td>0.0</td>\n",
              "      <td>0.0</td>\n",
              "      <td>0.0</td>\n",
              "      <td>...</td>\n",
              "      <td>0.0</td>\n",
              "      <td>0.0</td>\n",
              "      <td>0.0</td>\n",
              "      <td>0.0</td>\n",
              "      <td>0.0</td>\n",
              "      <td>0.0</td>\n",
              "      <td>0.0</td>\n",
              "      <td>0.0</td>\n",
              "      <td>0.0</td>\n",
              "      <td>0.0</td>\n",
              "    </tr>\n",
              "    <tr>\n",
              "      <th>26644</th>\n",
              "      <td>0.33</td>\n",
              "      <td>0.00</td>\n",
              "      <td>0.00</td>\n",
              "      <td>0.33</td>\n",
              "      <td>0.0</td>\n",
              "      <td>0.0</td>\n",
              "      <td>0.0</td>\n",
              "      <td>0.0</td>\n",
              "      <td>0.0</td>\n",
              "      <td>0.0</td>\n",
              "      <td>...</td>\n",
              "      <td>0.0</td>\n",
              "      <td>0.0</td>\n",
              "      <td>0.0</td>\n",
              "      <td>0.0</td>\n",
              "      <td>0.0</td>\n",
              "      <td>0.0</td>\n",
              "      <td>0.0</td>\n",
              "      <td>0.0</td>\n",
              "      <td>0.0</td>\n",
              "      <td>0.0</td>\n",
              "    </tr>\n",
              "  </tbody>\n",
              "</table>\n",
              "<p>26645 rows × 1089 columns</p>\n",
              "</div>\n",
              "    <div class=\"colab-df-buttons\">\n",
              "\n",
              "  <div class=\"colab-df-container\">\n",
              "    <button class=\"colab-df-convert\" onclick=\"convertToInteractive('df-1ccebbd8-2138-4fa9-b442-2087fed14329')\"\n",
              "            title=\"Convert this dataframe to an interactive table.\"\n",
              "            style=\"display:none;\">\n",
              "\n",
              "  <svg xmlns=\"http://www.w3.org/2000/svg\" height=\"24px\" viewBox=\"0 -960 960 960\">\n",
              "    <path d=\"M120-120v-720h720v720H120Zm60-500h600v-160H180v160Zm220 220h160v-160H400v160Zm0 220h160v-160H400v160ZM180-400h160v-160H180v160Zm440 0h160v-160H620v160ZM180-180h160v-160H180v160Zm440 0h160v-160H620v160Z\"/>\n",
              "  </svg>\n",
              "    </button>\n",
              "\n",
              "  <style>\n",
              "    .colab-df-container {\n",
              "      display:flex;\n",
              "      gap: 12px;\n",
              "    }\n",
              "\n",
              "    .colab-df-convert {\n",
              "      background-color: #E8F0FE;\n",
              "      border: none;\n",
              "      border-radius: 50%;\n",
              "      cursor: pointer;\n",
              "      display: none;\n",
              "      fill: #1967D2;\n",
              "      height: 32px;\n",
              "      padding: 0 0 0 0;\n",
              "      width: 32px;\n",
              "    }\n",
              "\n",
              "    .colab-df-convert:hover {\n",
              "      background-color: #E2EBFA;\n",
              "      box-shadow: 0px 1px 2px rgba(60, 64, 67, 0.3), 0px 1px 3px 1px rgba(60, 64, 67, 0.15);\n",
              "      fill: #174EA6;\n",
              "    }\n",
              "\n",
              "    .colab-df-buttons div {\n",
              "      margin-bottom: 4px;\n",
              "    }\n",
              "\n",
              "    [theme=dark] .colab-df-convert {\n",
              "      background-color: #3B4455;\n",
              "      fill: #D2E3FC;\n",
              "    }\n",
              "\n",
              "    [theme=dark] .colab-df-convert:hover {\n",
              "      background-color: #434B5C;\n",
              "      box-shadow: 0px 1px 3px 1px rgba(0, 0, 0, 0.15);\n",
              "      filter: drop-shadow(0px 1px 2px rgba(0, 0, 0, 0.3));\n",
              "      fill: #FFFFFF;\n",
              "    }\n",
              "  </style>\n",
              "\n",
              "    <script>\n",
              "      const buttonEl =\n",
              "        document.querySelector('#df-1ccebbd8-2138-4fa9-b442-2087fed14329 button.colab-df-convert');\n",
              "      buttonEl.style.display =\n",
              "        google.colab.kernel.accessAllowed ? 'block' : 'none';\n",
              "\n",
              "      async function convertToInteractive(key) {\n",
              "        const element = document.querySelector('#df-1ccebbd8-2138-4fa9-b442-2087fed14329');\n",
              "        const dataTable =\n",
              "          await google.colab.kernel.invokeFunction('convertToInteractive',\n",
              "                                                    [key], {});\n",
              "        if (!dataTable) return;\n",
              "\n",
              "        const docLinkHtml = 'Like what you see? Visit the ' +\n",
              "          '<a target=\"_blank\" href=https://colab.research.google.com/notebooks/data_table.ipynb>data table notebook</a>'\n",
              "          + ' to learn more about interactive tables.';\n",
              "        element.innerHTML = '';\n",
              "        dataTable['output_type'] = 'display_data';\n",
              "        await google.colab.output.renderOutput(dataTable, element);\n",
              "        const docLink = document.createElement('div');\n",
              "        docLink.innerHTML = docLinkHtml;\n",
              "        element.appendChild(docLink);\n",
              "      }\n",
              "    </script>\n",
              "  </div>\n",
              "\n",
              "\n",
              "<div id=\"df-517484d9-0f7d-4524-ade7-02a9363b1cd4\">\n",
              "  <button class=\"colab-df-quickchart\" onclick=\"quickchart('df-517484d9-0f7d-4524-ade7-02a9363b1cd4')\"\n",
              "            title=\"Suggest charts\"\n",
              "            style=\"display:none;\">\n",
              "\n",
              "<svg xmlns=\"http://www.w3.org/2000/svg\" height=\"24px\"viewBox=\"0 0 24 24\"\n",
              "     width=\"24px\">\n",
              "    <g>\n",
              "        <path d=\"M19 3H5c-1.1 0-2 .9-2 2v14c0 1.1.9 2 2 2h14c1.1 0 2-.9 2-2V5c0-1.1-.9-2-2-2zM9 17H7v-7h2v7zm4 0h-2V7h2v10zm4 0h-2v-4h2v4z\"/>\n",
              "    </g>\n",
              "</svg>\n",
              "  </button>\n",
              "\n",
              "<style>\n",
              "  .colab-df-quickchart {\n",
              "      --bg-color: #E8F0FE;\n",
              "      --fill-color: #1967D2;\n",
              "      --hover-bg-color: #E2EBFA;\n",
              "      --hover-fill-color: #174EA6;\n",
              "      --disabled-fill-color: #AAA;\n",
              "      --disabled-bg-color: #DDD;\n",
              "  }\n",
              "\n",
              "  [theme=dark] .colab-df-quickchart {\n",
              "      --bg-color: #3B4455;\n",
              "      --fill-color: #D2E3FC;\n",
              "      --hover-bg-color: #434B5C;\n",
              "      --hover-fill-color: #FFFFFF;\n",
              "      --disabled-bg-color: #3B4455;\n",
              "      --disabled-fill-color: #666;\n",
              "  }\n",
              "\n",
              "  .colab-df-quickchart {\n",
              "    background-color: var(--bg-color);\n",
              "    border: none;\n",
              "    border-radius: 50%;\n",
              "    cursor: pointer;\n",
              "    display: none;\n",
              "    fill: var(--fill-color);\n",
              "    height: 32px;\n",
              "    padding: 0;\n",
              "    width: 32px;\n",
              "  }\n",
              "\n",
              "  .colab-df-quickchart:hover {\n",
              "    background-color: var(--hover-bg-color);\n",
              "    box-shadow: 0 1px 2px rgba(60, 64, 67, 0.3), 0 1px 3px 1px rgba(60, 64, 67, 0.15);\n",
              "    fill: var(--button-hover-fill-color);\n",
              "  }\n",
              "\n",
              "  .colab-df-quickchart-complete:disabled,\n",
              "  .colab-df-quickchart-complete:disabled:hover {\n",
              "    background-color: var(--disabled-bg-color);\n",
              "    fill: var(--disabled-fill-color);\n",
              "    box-shadow: none;\n",
              "  }\n",
              "\n",
              "  .colab-df-spinner {\n",
              "    border: 2px solid var(--fill-color);\n",
              "    border-color: transparent;\n",
              "    border-bottom-color: var(--fill-color);\n",
              "    animation:\n",
              "      spin 1s steps(1) infinite;\n",
              "  }\n",
              "\n",
              "  @keyframes spin {\n",
              "    0% {\n",
              "      border-color: transparent;\n",
              "      border-bottom-color: var(--fill-color);\n",
              "      border-left-color: var(--fill-color);\n",
              "    }\n",
              "    20% {\n",
              "      border-color: transparent;\n",
              "      border-left-color: var(--fill-color);\n",
              "      border-top-color: var(--fill-color);\n",
              "    }\n",
              "    30% {\n",
              "      border-color: transparent;\n",
              "      border-left-color: var(--fill-color);\n",
              "      border-top-color: var(--fill-color);\n",
              "      border-right-color: var(--fill-color);\n",
              "    }\n",
              "    40% {\n",
              "      border-color: transparent;\n",
              "      border-right-color: var(--fill-color);\n",
              "      border-top-color: var(--fill-color);\n",
              "    }\n",
              "    60% {\n",
              "      border-color: transparent;\n",
              "      border-right-color: var(--fill-color);\n",
              "    }\n",
              "    80% {\n",
              "      border-color: transparent;\n",
              "      border-right-color: var(--fill-color);\n",
              "      border-bottom-color: var(--fill-color);\n",
              "    }\n",
              "    90% {\n",
              "      border-color: transparent;\n",
              "      border-bottom-color: var(--fill-color);\n",
              "    }\n",
              "  }\n",
              "</style>\n",
              "\n",
              "  <script>\n",
              "    async function quickchart(key) {\n",
              "      const quickchartButtonEl =\n",
              "        document.querySelector('#' + key + ' button');\n",
              "      quickchartButtonEl.disabled = true;  // To prevent multiple clicks.\n",
              "      quickchartButtonEl.classList.add('colab-df-spinner');\n",
              "      try {\n",
              "        const charts = await google.colab.kernel.invokeFunction(\n",
              "            'suggestCharts', [key], {});\n",
              "      } catch (error) {\n",
              "        console.error('Error during call to suggestCharts:', error);\n",
              "      }\n",
              "      quickchartButtonEl.classList.remove('colab-df-spinner');\n",
              "      quickchartButtonEl.classList.add('colab-df-quickchart-complete');\n",
              "    }\n",
              "    (() => {\n",
              "      let quickchartButtonEl =\n",
              "        document.querySelector('#df-517484d9-0f7d-4524-ade7-02a9363b1cd4 button');\n",
              "      quickchartButtonEl.style.display =\n",
              "        google.colab.kernel.accessAllowed ? 'block' : 'none';\n",
              "    })();\n",
              "  </script>\n",
              "</div>\n",
              "    </div>\n",
              "  </div>\n"
            ],
            "application/vnd.google.colaboratory.intrinsic+json": {
              "type": "dataframe",
              "variable_name": "df_to_norm"
            }
          },
          "metadata": {},
          "execution_count": 30
        }
      ]
    },
    {
      "cell_type": "code",
      "source": [
        "df_to_norm.to_csv('/content/drive/MyDrive/study/andan/df_main.csv')\n",
        "df_target.to_csv('/content/drive/MyDrive/study/andan/df_target.csv')\n",
        "df_support_info.to_csv('/content/drive/MyDrive/study/andan/df_support_info.csv')\n",
        "df_additional.to_csv('/content/drive/MyDrive/study/andan/df_additional.csv')"
      ],
      "metadata": {
        "id": "VkApb17es9CE"
      },
      "execution_count": 31,
      "outputs": []
    },
    {
      "cell_type": "code",
      "source": [
        "df = pd.read_csv('/content/drive/MyDrive/study/andan/perfume.tsv',  sep='\\t')\n",
        "df_processed = pd.read_csv('/content/drive/MyDrive/study/andan/perfume_processed.csv')"
      ],
      "metadata": {
        "id": "VBb1ljx53EVz"
      },
      "execution_count": null,
      "outputs": []
    },
    {
      "cell_type": "code",
      "source": [
        "df.iloc[1]['upper_notes']"
      ],
      "metadata": {
        "colab": {
          "base_uri": "https://localhost:8080/",
          "height": 35
        },
        "id": "N386HjeN3MZM",
        "outputId": "5eba3dce-681e-40c0-a58d-084c9c40a9e2"
      },
      "execution_count": null,
      "outputs": [
        {
          "output_type": "execute_result",
          "data": {
            "text/plain": [
              "'бергамот;кориандр;корица;мандарин;нероли;палисандр;лист томата'"
            ],
            "application/vnd.google.colaboratory.intrinsic+json": {
              "type": "string"
            }
          },
          "metadata": {},
          "execution_count": 15
        }
      ]
    },
    {
      "cell_type": "code",
      "source": [
        "df_processed.iloc[1]['мандарин']"
      ],
      "metadata": {
        "id": "A4yiux3huM8I"
      },
      "execution_count": null,
      "outputs": []
    },
    {
      "cell_type": "code",
      "source": [
        "df1 = df_processed[df_processed.isna().any(axis=1)]\n",
        "df1"
      ],
      "metadata": {
        "colab": {
          "base_uri": "https://localhost:8080/",
          "height": 133
        },
        "id": "qj75bY6mTZQL",
        "outputId": "9766a5c5-afe3-4b89-9fd4-3a92b2c9c955"
      },
      "execution_count": null,
      "outputs": [
        {
          "output_type": "execute_result",
          "data": {
            "text/plain": [
              "Empty DataFrame\n",
              "Columns: [Unnamed: 0, company, name, year, country, expiration, mounth, volume, ml, price, rub, manufacturer, audience, восточные_f_g, цветочные_f_g, _f_g, древесные_f_g, фужерные_f_g, водяные_f_g, шипровые_f_g, гурманские_f_g, мускусные_f_g, кожаные_f_g, зеленые_f_g, амбровые_f_g, древесно-мускусные_f_g, пряные_f_g, ароматические_f_g, ориентальные_f_g, фруктовые_f_g, цитрусовые_f_g, сладкие_f_g, свежие_f_g, пудровые_f_g, альдегидные_f_g, табачные_f_g, акватические_f_g, ванильные_f_g, минеральные_f_g, земляная нота_f_g, зеленые ноты_f_g, пудровые ноты_f_g, цветочные ноты_f_g, травяные_f_g, бальзамические ноты_f_g, ландыш_f_g, фиалковые_f_g, корица_f_g, мыло, корень мондии, бергамот, абсент, лист фиалки, асафоэтида, кульфи, амброксан, лемонграсс, нероли, физалис, бриошь, лист магнолии, иван-чай, белое вино, черемуха, цикламен, листья мандарина, лепестки магнолии, чай ройбуш, красный грейпфрут, лимонад, водные ноты, яблоко, пластик, сирень, трюфель, ванильная орхидея, тиковое дерево, зубровка душистая, виверра, ладан, лотос, жареные орехи, додеканаль, лист корицы, сосна, цитрон, текила, цукаты, лист лимона, розовый грейпфрут, бетон, экзотическая древесная нота, лист груши, гиацинт, коралл, полевые цветы, гальбанум, заварной крем, зимняя ягода, зефир, масло уда, канадская ель, жакаранда, ...]\n",
              "Index: []\n",
              "\n",
              "[0 rows x 1100 columns]"
            ],
            "text/html": [
              "\n",
              "  <div id=\"df-2d55934b-c77f-4ef4-bb95-ee120293849a\" class=\"colab-df-container\">\n",
              "    <div>\n",
              "<style scoped>\n",
              "    .dataframe tbody tr th:only-of-type {\n",
              "        vertical-align: middle;\n",
              "    }\n",
              "\n",
              "    .dataframe tbody tr th {\n",
              "        vertical-align: top;\n",
              "    }\n",
              "\n",
              "    .dataframe thead th {\n",
              "        text-align: right;\n",
              "    }\n",
              "</style>\n",
              "<table border=\"1\" class=\"dataframe\">\n",
              "  <thead>\n",
              "    <tr style=\"text-align: right;\">\n",
              "      <th></th>\n",
              "      <th>Unnamed: 0</th>\n",
              "      <th>company</th>\n",
              "      <th>name</th>\n",
              "      <th>year</th>\n",
              "      <th>country</th>\n",
              "      <th>expiration, mounth</th>\n",
              "      <th>volume, ml</th>\n",
              "      <th>price, rub</th>\n",
              "      <th>manufacturer</th>\n",
              "      <th>audience</th>\n",
              "      <th>...</th>\n",
              "      <th>чай эрл грей</th>\n",
              "      <th>капучино</th>\n",
              "      <th>тысячелистник</th>\n",
              "      <th>пеларгония</th>\n",
              "      <th>белый табак</th>\n",
              "      <th>скотч</th>\n",
              "      <th>кринум</th>\n",
              "      <th>цедра мандарина</th>\n",
              "      <th>камыш</th>\n",
              "      <th>полынь</th>\n",
              "    </tr>\n",
              "  </thead>\n",
              "  <tbody>\n",
              "  </tbody>\n",
              "</table>\n",
              "<p>0 rows × 1100 columns</p>\n",
              "</div>\n",
              "    <div class=\"colab-df-buttons\">\n",
              "\n",
              "  <div class=\"colab-df-container\">\n",
              "    <button class=\"colab-df-convert\" onclick=\"convertToInteractive('df-2d55934b-c77f-4ef4-bb95-ee120293849a')\"\n",
              "            title=\"Convert this dataframe to an interactive table.\"\n",
              "            style=\"display:none;\">\n",
              "\n",
              "  <svg xmlns=\"http://www.w3.org/2000/svg\" height=\"24px\" viewBox=\"0 -960 960 960\">\n",
              "    <path d=\"M120-120v-720h720v720H120Zm60-500h600v-160H180v160Zm220 220h160v-160H400v160Zm0 220h160v-160H400v160ZM180-400h160v-160H180v160Zm440 0h160v-160H620v160ZM180-180h160v-160H180v160Zm440 0h160v-160H620v160Z\"/>\n",
              "  </svg>\n",
              "    </button>\n",
              "\n",
              "  <style>\n",
              "    .colab-df-container {\n",
              "      display:flex;\n",
              "      gap: 12px;\n",
              "    }\n",
              "\n",
              "    .colab-df-convert {\n",
              "      background-color: #E8F0FE;\n",
              "      border: none;\n",
              "      border-radius: 50%;\n",
              "      cursor: pointer;\n",
              "      display: none;\n",
              "      fill: #1967D2;\n",
              "      height: 32px;\n",
              "      padding: 0 0 0 0;\n",
              "      width: 32px;\n",
              "    }\n",
              "\n",
              "    .colab-df-convert:hover {\n",
              "      background-color: #E2EBFA;\n",
              "      box-shadow: 0px 1px 2px rgba(60, 64, 67, 0.3), 0px 1px 3px 1px rgba(60, 64, 67, 0.15);\n",
              "      fill: #174EA6;\n",
              "    }\n",
              "\n",
              "    .colab-df-buttons div {\n",
              "      margin-bottom: 4px;\n",
              "    }\n",
              "\n",
              "    [theme=dark] .colab-df-convert {\n",
              "      background-color: #3B4455;\n",
              "      fill: #D2E3FC;\n",
              "    }\n",
              "\n",
              "    [theme=dark] .colab-df-convert:hover {\n",
              "      background-color: #434B5C;\n",
              "      box-shadow: 0px 1px 3px 1px rgba(0, 0, 0, 0.15);\n",
              "      filter: drop-shadow(0px 1px 2px rgba(0, 0, 0, 0.3));\n",
              "      fill: #FFFFFF;\n",
              "    }\n",
              "  </style>\n",
              "\n",
              "    <script>\n",
              "      const buttonEl =\n",
              "        document.querySelector('#df-2d55934b-c77f-4ef4-bb95-ee120293849a button.colab-df-convert');\n",
              "      buttonEl.style.display =\n",
              "        google.colab.kernel.accessAllowed ? 'block' : 'none';\n",
              "\n",
              "      async function convertToInteractive(key) {\n",
              "        const element = document.querySelector('#df-2d55934b-c77f-4ef4-bb95-ee120293849a');\n",
              "        const dataTable =\n",
              "          await google.colab.kernel.invokeFunction('convertToInteractive',\n",
              "                                                    [key], {});\n",
              "        if (!dataTable) return;\n",
              "\n",
              "        const docLinkHtml = 'Like what you see? Visit the ' +\n",
              "          '<a target=\"_blank\" href=https://colab.research.google.com/notebooks/data_table.ipynb>data table notebook</a>'\n",
              "          + ' to learn more about interactive tables.';\n",
              "        element.innerHTML = '';\n",
              "        dataTable['output_type'] = 'display_data';\n",
              "        await google.colab.output.renderOutput(dataTable, element);\n",
              "        const docLink = document.createElement('div');\n",
              "        docLink.innerHTML = docLinkHtml;\n",
              "        element.appendChild(docLink);\n",
              "      }\n",
              "    </script>\n",
              "  </div>\n",
              "\n",
              "    </div>\n",
              "  </div>\n"
            ],
            "application/vnd.google.colaboratory.intrinsic+json": {
              "type": "dataframe",
              "variable_name": "df1"
            }
          },
          "metadata": {},
          "execution_count": 38
        }
      ]
    }
  ],
  "metadata": {
    "colab": {
      "provenance": []
    },
    "kernelspec": {
      "display_name": "Python 3",
      "name": "python3"
    },
    "language_info": {
      "name": "python"
    }
  },
  "nbformat": 4,
  "nbformat_minor": 0
}